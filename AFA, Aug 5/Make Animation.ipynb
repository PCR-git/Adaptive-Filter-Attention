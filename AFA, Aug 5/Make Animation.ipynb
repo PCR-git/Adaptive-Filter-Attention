{
 "cells": [
  {
   "cell_type": "code",
   "execution_count": 1,
   "id": "bbd34dad",
   "metadata": {},
   "outputs": [],
   "source": [
    "import glob\n",
    "from PIL import Image\n",
    "import os # Import os module for path joining and existence checks\n",
    "import re"
   ]
  },
  {
   "cell_type": "code",
   "execution_count": 2,
   "id": "254d943f",
   "metadata": {},
   "outputs": [],
   "source": [
    "def natural_sort_key(s):\n",
    "    # This function splits a string into numerical and non-numerical parts.\n",
    "    # It converts the numerical parts to integers for correct numerical sorting.\n",
    "    return [int(text) if text.isdigit() else text.lower()\n",
    "            for text in re.split('([0-9]+)', s)]"
   ]
  },
  {
   "cell_type": "code",
   "execution_count": 11,
   "id": "7ee60394",
   "metadata": {},
   "outputs": [],
   "source": [
    "# Get a sorted list of image file paths using the natural_sort_key\n",
    "\n",
    "# image_files = sorted(glob.glob(image_pattern), key=natural_sort_key)\n",
    "\n",
    "# Define the path to your images and the output GIF filename\n",
    "folder = \"C://Users//Pracioppo//Desktop//train_imgs//\"\n",
    "\n",
    "i = 2\n",
    "names = ['trajecs', 'ests', 'attn']\n",
    "name = names[i]\n",
    "subfolder = folder + name + '//'\n",
    "image_pattern = os.path.join(subfolder, '*.png')\n",
    "output_gif_path = folder + name + \".gif\""
   ]
  },
  {
   "cell_type": "code",
   "execution_count": 12,
   "id": "0bf75c26",
   "metadata": {},
   "outputs": [],
   "source": [
    "# Get a sorted list of image file paths\n",
    "# image_files = sorted(glob.glob(image_pattern))\n",
    "image_files = sorted(glob.glob(image_pattern), key=natural_sort_key)\n",
    "\n",
    "# Open the first image to use as the base for the GIF\n",
    "img_base = Image.open(image_files[0])\n",
    "\n",
    "# Load the rest of the images as frames\n",
    "# Use a list comprehension for efficiency\n",
    "frames = [Image.open(f) for f in image_files[1:]]"
   ]
  },
  {
   "cell_type": "code",
   "execution_count": 13,
   "id": "5aeb01d6",
   "metadata": {},
   "outputs": [
    {
     "name": "stdout",
     "output_type": "stream",
     "text": [
      "Animated GIF saved to C://Users//Pracioppo//Desktop//train_imgs//attn.gif\n"
     ]
    }
   ],
   "source": [
    "# Save as an animated GIF\n",
    "img_base.save(\n",
    "    fp=output_gif_path,\n",
    "    format='GIF',\n",
    "    append_images=frames,\n",
    "    save_all=True,\n",
    "    duration=100,  # Duration for each frame in milliseconds\n",
    "    loop=0         # 0 for infinite loop, a number for specific loops\n",
    ")\n",
    "print(f\"Animated GIF saved to {output_gif_path}\")"
   ]
  },
  {
   "cell_type": "code",
   "execution_count": 15,
   "id": "7036c70f",
   "metadata": {},
   "outputs": [],
   "source": [
    "# Delete all images\n",
    "names = ['trajecs', 'ests', 'attn']\n",
    "for i in range(3):\n",
    "    name = names[i]\n",
    "    subfolder = folder + name + '//'\n",
    "    image_pattern = os.path.join(subfolder, '*.png')\n",
    "    output_gif_path = folder + \"animation.gif\"\n",
    "    image_files = sorted(glob.glob(image_pattern), key=natural_sort_key)\n",
    "\n",
    "    files_to_delete = image_files\n",
    "    for file_path in files_to_delete:\n",
    "        os.remove(file_path)"
   ]
  },
  {
   "cell_type": "code",
   "execution_count": null,
   "id": "d7ca9d11",
   "metadata": {},
   "outputs": [],
   "source": []
  }
 ],
 "metadata": {
  "kernelspec": {
   "display_name": "Python 3 (ipykernel)",
   "language": "python",
   "name": "python3"
  },
  "language_info": {
   "codemirror_mode": {
    "name": "ipython",
    "version": 3
   },
   "file_extension": ".py",
   "mimetype": "text/x-python",
   "name": "python",
   "nbconvert_exporter": "python",
   "pygments_lexer": "ipython3",
   "version": "3.10.14"
  }
 },
 "nbformat": 4,
 "nbformat_minor": 5
}
